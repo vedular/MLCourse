{
 "cells": [
  {
   "cell_type": "code",
   "execution_count": 22,
   "metadata": {},
   "outputs": [
    {
     "name": "stdout",
     "output_type": "stream",
     "text": [
      "not the right triangle proportions\n",
      "The area of the triangle is: 0.0\n"
     ]
    }
   ],
   "source": [
    " #1.1 Write a Python Program(with class concepts) to find the area of the triangle using the below formula.\n",
    "#area = (s*(s-a)*(s-b)*(s-c)) ** 0.5\n",
    "#Function to take the length of the sides of triangle from user should be defined in the parent\n",
    "#class and function to calculate the area should be defined in subclass.\n",
    "import math\n",
    "\n",
    "class Triangledim():\n",
    "    def __init__(self, l1, l2, l3):\n",
    "        self.l1 = l1\n",
    "        self.l2 = l2\n",
    "        self.l3 = l3\n",
    "        self.s = (self.l1+self.l2+self.l3) / 2.0\n",
    "\n",
    "    def checktri(self):\n",
    "        if (self.l1+self.l2>self.l3) and (self.l2+self.l3>self.l1) and (self.l1+self.l3>self.l2): \n",
    "            print(\"Perimeter of the triangle is: {}\".format(self.s))\n",
    "        else: \n",
    "            print(\"not the right triangle proportions\") \n",
    "\n",
    "    def findArea(self):\n",
    "        area = math.sqrt(self.s*(self.s-self.l1)*(self.s-self.l2)*(self.s-self.l3))\n",
    "        print(\"The area of the triangle is: {}\".format(area))\n",
    "\n",
    "if __name__ == \"__main__\":\n",
    "    p = Triangledim(7,5,2)\n",
    "    p.checktri()\n",
    "    p.findArea()\n"
   ]
  },
  {
   "cell_type": "code",
   "execution_count": 24,
   "metadata": {},
   "outputs": [
    {
     "name": "stdout",
     "output_type": "stream",
     "text": [
      "Perimeter of the triangle is: 11.0\n",
      "The area of the triangle is: 16.24807680927192\n"
     ]
    }
   ],
   "source": [
    "    p = Triangledim(7,5,10)\n",
    "    p.checktri()\n",
    "    p.findArea()"
   ]
  },
  {
   "cell_type": "code",
   "execution_count": 37,
   "metadata": {},
   "outputs": [
    {
     "name": "stdout",
     "output_type": "stream",
     "text": [
      "Type an integer\n",
      "5\n",
      "Words greater than integer:\n",
      "cheetah\n"
     ]
    }
   ],
   "source": [
    "#1.2 Write a function filter_long_words() that takes a list of words and an integer n and returns\n",
    "#the list of words that are longer than n.\n",
    "\n",
    "def wordlen(list):\n",
    "         print('Type an integer')\n",
    "         num=int(input())\n",
    "         print('Words greater than integer:')\n",
    "         for n in list:\n",
    "             if (len(n))>num:\n",
    "                 print(n)\n",
    "\n",
    "list=['tiger','lion','cheetah']\n",
    "wordlen(list)"
   ]
  },
  {
   "cell_type": "code",
   "execution_count": 48,
   "metadata": {},
   "outputs": [
    {
     "name": "stdout",
     "output_type": "stream",
     "text": [
      "Enter words:a,ab,abc,abcd,abcde\n",
      "Another List: [1, 2, 3, 4, 5]\n"
     ]
    }
   ],
   "source": [
    "# 2.1 Write a Python program using function concept that maps list of words in to a list of integers\n",
    "# representing the lengths of the corresponding words .\n",
    "\n",
    "def mapping(l):\n",
    "    mapped=[]\n",
    "    for j in l:\n",
    "        mapped.append(len(j))\n",
    "    return mapped\n",
    "\n",
    "n=input(\"Enter words:\")\n",
    "nt=n.split(\",\")\n",
    "mapped=mapping(nt)\n",
    "\n",
    "print(\"Another List:\",mapped)"
   ]
  }
 ],
 "metadata": {
  "kernelspec": {
   "display_name": "Python 3",
   "language": "python",
   "name": "python3"
  },
  "language_info": {
   "codemirror_mode": {
    "name": "ipython",
    "version": 3
   },
   "file_extension": ".py",
   "mimetype": "text/x-python",
   "name": "python",
   "nbconvert_exporter": "python",
   "pygments_lexer": "ipython3",
   "version": "3.7.4"
  }
 },
 "nbformat": 4,
 "nbformat_minor": 2
}
